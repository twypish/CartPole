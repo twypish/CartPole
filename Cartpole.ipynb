{
  "nbformat": 4,
  "nbformat_minor": 0,
  "metadata": {
    "colab": {
      "provenance": []
    },
    "kernelspec": {
      "name": "python3",
      "display_name": "Python 3"
    },
    "language_info": {
      "name": "python"
    }
  },
  "cells": [
    {
      "cell_type": "code",
      "execution_count": 1,
      "metadata": {
        "id": "XFrAEtgf1hsc"
      },
      "outputs": [],
      "source": [
        "# Install dependencies\n",
        "!pip install stable-baselines3 gymnasium --quiet"
      ]
    },
    {
      "cell_type": "code",
      "source": [
        "# Import libraries\n",
        "import gymnasium as gym\n",
        "from stable_baselines3 import PPO\n",
        "from stable_baselines3.common.evaluation import evaluate_policy\n"
      ],
      "metadata": {
        "id": "nhcpC1SI1utG"
      },
      "execution_count": 2,
      "outputs": []
    },
    {
      "cell_type": "code",
      "source": [
        "# Create environment\n",
        "env = gym.make('CartPole-v1')"
      ],
      "metadata": {
        "id": "XtVGD-FS2JGE"
      },
      "execution_count": 3,
      "outputs": []
    },
    {
      "cell_type": "code",
      "source": [
        "# Create the model\n",
        "model = PPO('MlpPolicy', env, verbose=1)"
      ],
      "metadata": {
        "colab": {
          "base_uri": "https://localhost:8080/"
        },
        "id": "H-YyfwFT2K_3",
        "outputId": "da293e28-9173-4dc5-f4d7-6ecd1e3a42fc"
      },
      "execution_count": 35,
      "outputs": [
        {
          "output_type": "stream",
          "name": "stdout",
          "text": [
            "Using cpu device\n",
            "Wrapping the env with a `Monitor` wrapper\n",
            "Wrapping the env in a DummyVecEnv.\n"
          ]
        }
      ]
    },
    {
      "cell_type": "code",
      "source": [
        "# Train the model\n",
        "model.learn(total_timesteps=100)"
      ],
      "metadata": {
        "colab": {
          "base_uri": "https://localhost:8080/"
        },
        "id": "5DJNbVD52My-",
        "outputId": "b3bb0e0e-d8c0-4ced-9698-e0040101f9a0"
      },
      "execution_count": 36,
      "outputs": [
        {
          "output_type": "stream",
          "name": "stdout",
          "text": [
            "---------------------------------\n",
            "| rollout/           |          |\n",
            "|    ep_len_mean     | 21.9     |\n",
            "|    ep_rew_mean     | 21.9     |\n",
            "| time/              |          |\n",
            "|    fps             | 736      |\n",
            "|    iterations      | 1        |\n",
            "|    time_elapsed    | 2        |\n",
            "|    total_timesteps | 2048     |\n",
            "---------------------------------\n"
          ]
        },
        {
          "output_type": "execute_result",
          "data": {
            "text/plain": [
              "<stable_baselines3.ppo.ppo.PPO at 0x7e91236d7590>"
            ]
          },
          "metadata": {},
          "execution_count": 36
        }
      ]
    },
    {
      "cell_type": "code",
      "source": [
        "# Evaluate the model\n",
        "mean_reward, std_reward = evaluate_policy(model, env, n_eval_episodes=10)\n",
        "print(f\"Mean reward: {mean_reward} +/- {std_reward}\")"
      ],
      "metadata": {
        "colab": {
          "base_uri": "https://localhost:8080/"
        },
        "id": "W0At_jzL2OLT",
        "outputId": "f80b2c79-3782-4896-be59-80afa43fc7e5"
      },
      "execution_count": 37,
      "outputs": [
        {
          "output_type": "stream",
          "name": "stdout",
          "text": [
            "Mean reward: 169.6 +/- 23.01825362619849\n"
          ]
        }
      ]
    },
    {
      "cell_type": "code",
      "source": [
        "import matplotlib.pyplot as plt\n",
        "from IPython.display import display, clear_output\n",
        "import imageio\n",
        "import time\n",
        "import os\n",
        "\n",
        "# Create a folder if you want\n",
        "os.makedirs(\"gifs\", exist_ok=True)\n",
        "\n",
        "# Ensure the creation of env\n",
        "env = gym.make(\"CartPole-v1\", render_mode=\"rgb_array\")\n",
        "\n",
        "# Reset env and prepare\n",
        "obs, _ = env.reset()\n",
        "frames = []\n",
        "\n",
        "# Simulate agent\n",
        "for _ in range(200):\n",
        "    action, _ = model.predict(obs)\n",
        "    obs, reward, terminated, truncated, _ = env.step(action)\n",
        "\n",
        "    # get rgb frame\n",
        "    frame = env.render()\n",
        "    frames.append(frame)\n",
        "\n",
        "    # Show inline in notebook\n",
        "    clear_output(wait=True)\n",
        "    plt.imshow(frame)\n",
        "    plt.axis(\"off\")\n",
        "    display(plt.gcf())\n",
        "    plt.close()\n",
        "    time.sleep(0.02)\n",
        "\n",
        "    if terminated or truncated:\n",
        "        obs, _ = env.reset()\n",
        "\n",
        "env.close()\n",
        "\n",
        "# Save as gif\n",
        "gif_name = f\"gifs/PPO_cartpole_{100}_steps.gif\"\n",
        "imageio.mimsave(gif_name, frames, fps=30)\n",
        "print(f\"Saved: {gif_name}\")\n",
        ""
      ],
      "metadata": {
        "colab": {
          "base_uri": "https://localhost:8080/",
          "height": 385
        },
        "id": "m5AMW2xL2QJu",
        "outputId": "8397e70b-8bea-4235-f58b-39e02b0784da"
      },
      "execution_count": 39,
      "outputs": [
        {
          "output_type": "display_data",
          "data": {
            "text/plain": [
              "<Figure size 640x480 with 1 Axes>"
            ],
            "image/png": "[encoded data removed]"
          },
          "metadata": {}
        },
        {
          "output_type": "stream",
          "name": "stdout",
          "text": [
            "Saved: gifs/PPO_cartpole_100_steps.gif\n"
          ]
        }
      ]
    }
  ]
}